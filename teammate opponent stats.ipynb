{
 "cells": [
  {
   "cell_type": "code",
   "execution_count": 1,
   "id": "73408bf7-d99c-4f49-8dab-1f730d5ab324",
   "metadata": {},
   "outputs": [],
   "source": [
    "import pandas as pd"
   ]
  },
  {
   "cell_type": "code",
   "execution_count": 2,
   "id": "426873f8-f8ce-4479-a2fd-432a3081aa3a",
   "metadata": {},
   "outputs": [],
   "source": [
    "df = pd.read_csv('matches.csv')"
   ]
  },
  {
   "cell_type": "code",
   "execution_count": 3,
   "id": "d22930e9-f0c7-4dc6-b211-a150635ce14a",
   "metadata": {},
   "outputs": [
    {
     "name": "stdout",
     "output_type": "stream",
     "text": [
      "['Aragornn', 'adirath', 'gelf', 'Mr.LoVe', nan, 'The SILENT MONK', 'DOOMSTER', 'Dranzer13', 'cr717', 'Thiru', 'Phantom', 'keysersoze', 'veralasata', 'Aragorn', 'threeeyedraven', 'MrWrong', 'CHARITH', 'basshunteraoe', 'PoinDexter', 'newisyou', 'Deadkorpse', 'Just🅱an', 'Storm', 'BraveHeart', 'MarjiManRTS', 'Shoumo', 'Plan B', 'Yugeengimli', 'Maximus', 'Bangbang', 'CrazyGuY', 'TRush', 'Valar', 'rsalgut', 'shrp', 'Anca', 'pHANTOM', 'Lifehack', 'abhinandankarwa', 'Lucky23', 'addu', 'steelskin', 'dopefish', 'Amadeus', 'Sephiroth', 'drgameher', 'Hitman', 'LlamaToast 🏴☠', 'Sargun', 'HistoryNerd', 'cloudriders', 'Simba', 'capeBoysNoob', 'n0chanc3', 'motava', 'Alexander8507', 'HELLRAZER', 'Avenger', 'rafale360', 'FraGStaR', 'SkuLLXD', 'ForeRuthless', 'OS', 'eKkO', 'ABHI', 'WackieChan', 'KhalDrogo', 'scarecrow', 'TheHappyBoar', 'Saracen', 'Tinikeya', 'SuLTaN', 'Nicco', 'Kappa', 'Himansu', 'bavinGelson', 'NileshJavar', 'THUNDER', 'CHICKEN', 'riddist', 'BoseDK', 'Morty', 'Blitz', 'Lathkore', 'Mirror', 'गुरुत्वाकर्षण', 'MadMax', 'arjya13', 'goko', 'Royal', 'Hiten', 'SMR', 'FraGSitauX', 'MachPatel', 'JayMystic', 'dst', 'Zaid Noob', 'Bomberman7991', 'franc', 'Diabloz', 'Strider', 'dragonstar1233', 'JAYRAJ', 'Afterlife', 'Rohan', 'andrabi', 'TheLivi', 'AsOcA', ' Apu', 'wArDaDdY', 'Delusion9', 'thaimadz', 'Ikka Stuff', 'Oldman0007', 'Fish Curry', 'RedViper', '💥Smokeu4joke', 'Srini Mama', 'bharathkumar539', 'peppapig2108', 'Slayer', 'AgentP', 'prof', 'ucchash94', 'BombayGypsy', 'kaos', 'Shadeslayer II', 'HenryX', 'ddk', 'vinay24', 'ch0r', 'Ancalagon', 'Wildling', 'Plan C', 'Asterix', 'Satanicwarhamster', 'stealthyChakram', 'Chacha', 'Vegeta9999', 'himansu', 'MODI', 'tasmaniandevil21', 'Bondulkar', 'WhiteSmith', 'noobnoob', 'cyanide', 'nemes1s', 'Sigma Grindset', 'TalentButNoFarm', 'harshit', '🥭bush', 'ThirtiethBog219', 'Water']\n"
     ]
    }
   ],
   "source": [
    "all_players = list(set(\n",
    "                    df['w1'].values.tolist() + \n",
    "                    df['w2'].values.tolist() + \n",
    "                    df['w3'].values.tolist() + \n",
    "                    df['w4'].values.tolist() + \n",
    "                    df['l1'].values.tolist() + \n",
    "                    df['l2'].values.tolist() + \n",
    "                    df['l3'].values.tolist() + \n",
    "                    df['l4'].values.tolist()\n",
    "                    ))\n",
    "print(all_players)"
   ]
  },
  {
   "cell_type": "code",
   "execution_count": 7,
   "id": "ab932c3b-9d2b-4b0d-89cf-bcfbf7a56ab3",
   "metadata": {},
   "outputs": [],
   "source": [
    "def teammate_stats(df, player):\n",
    "    # Filter matches involving the given player\n",
    "    won_df = df[(df['w1'] == player) | (df['w2'] == player) | (df['w3'] == player) | (df['w4'] == player)]\n",
    "    lost_df = df[(df['l1'] == player) | (df['l2'] == player) | (df['l3'] == player) | (df['l4'] == player)]\n",
    "\n",
    "    teammate_stats = []\n",
    "    for teammate in all_players:\n",
    "        if teammate == player:\n",
    "            continue\n",
    "            \n",
    "        won = len(won_df[\n",
    "                            (won_df['w1'] == teammate) | \n",
    "                            (won_df['w2'] == teammate) | \n",
    "                            (won_df['w3'] == teammate) | \n",
    "                            (won_df['w4'] == teammate)\n",
    "                            ].index)\n",
    "        lost = len(lost_df[\n",
    "                            (lost_df['l1'] == teammate) | \n",
    "                            (lost_df['l2'] == teammate) | \n",
    "                            (lost_df['l3'] == teammate) | \n",
    "                            (lost_df['l4'] == teammate)\n",
    "                            ].index)\n",
    "        if won+lost > 0:\n",
    "            teammate_stats.append({\n",
    "                'teammate': teammate, \n",
    "                'total': won+lost, \n",
    "                'won': won, \n",
    "                'lost': lost, \n",
    "                'win_rate': round(won*100/(won+lost), 2)\n",
    "            })\n",
    "    stats_df = pd.DataFrame(teammate_stats).sort_values(by='win_rate', ascending=False)\n",
    "    return stats_df[stats_df['total'] >= 1].reset_index(drop=True)\n"
   ]
  },
  {
   "cell_type": "code",
   "execution_count": 8,
   "id": "7113f9c2-fe46-4fb9-9cfb-85f8a281be32",
   "metadata": {},
   "outputs": [],
   "source": [
    "def opponent_stats(df, player):\n",
    "    # Filter matches involving the given player\n",
    "    won_df = df[(df['w1'] == player) | (df['w2'] == player) | (df['w3'] == player) | (df['w4'] == player)]\n",
    "    lost_df = df[(df['l1'] == player) | (df['l2'] == player) | (df['l3'] == player) | (df['l4'] == player)]\n",
    "\n",
    "    opponent_stats = []\n",
    "    for opponent in all_players:\n",
    "        if opponent == player:\n",
    "            continue\n",
    "            \n",
    "        won = len(won_df[\n",
    "                            (won_df['l1'] == opponent) | \n",
    "                            (won_df['l2'] == opponent) | \n",
    "                            (won_df['l3'] == opponent) | \n",
    "                            (won_df['l4'] == opponent)\n",
    "                            ].index)\n",
    "        lost = len(lost_df[\n",
    "                            (lost_df['w1'] == opponent) | \n",
    "                            (lost_df['w2'] == opponent) | \n",
    "                            (lost_df['w3'] == opponent) | \n",
    "                            (lost_df['w4'] == opponent)\n",
    "                            ].index)\n",
    "        if won+lost > 0:\n",
    "            opponent_stats.append({\n",
    "                'opponent': opponent, \n",
    "                'total': won+lost, \n",
    "                'won': won, \n",
    "                'lost': lost, \n",
    "                'win_rate': round(won*100/(won+lost), 2)\n",
    "            })\n",
    "    stats_df = pd.DataFrame(opponent_stats).sort_values(by='win_rate', ascending=False)\n",
    "    return stats_df[stats_df['total'] >= 1].reset_index(drop=True)\n"
   ]
  },
  {
   "cell_type": "code",
   "execution_count": 9,
   "id": "efe7d7e0-afad-491f-952b-70d83628a818",
   "metadata": {},
   "outputs": [
    {
     "ename": "KeyError",
     "evalue": "'win_rate'",
     "output_type": "error",
     "traceback": [
      "\u001b[0;31m---------------------------------------------------------------------------\u001b[0m",
      "\u001b[0;31mKeyError\u001b[0m                                  Traceback (most recent call last)",
      "\u001b[0;32m/var/folders/wk/xh1t9b793w52fjy9qr_0q3pr0000gn/T/ipykernel_23348/702402517.py\u001b[0m in \u001b[0;36m?\u001b[0;34m()\u001b[0m\n\u001b[1;32m      1\u001b[0m \u001b[0mplayer_name\u001b[0m \u001b[0;34m=\u001b[0m \u001b[0;34m'phantom'\u001b[0m\u001b[0;34m\u001b[0m\u001b[0;34m\u001b[0m\u001b[0m\n\u001b[0;32m----> 2\u001b[0;31m \u001b[0mopponent_stats\u001b[0m\u001b[0;34m(\u001b[0m\u001b[0mdf\u001b[0m\u001b[0;34m,\u001b[0m \u001b[0mplayer_name\u001b[0m\u001b[0;34m)\u001b[0m\u001b[0;34m\u001b[0m\u001b[0;34m\u001b[0m\u001b[0m\n\u001b[0m",
      "\u001b[0;32m/var/folders/wk/xh1t9b793w52fjy9qr_0q3pr0000gn/T/ipykernel_23348/2743396032.py\u001b[0m in \u001b[0;36m?\u001b[0;34m(df, player)\u001b[0m\n\u001b[1;32m     27\u001b[0m                 \u001b[0;34m'won'\u001b[0m\u001b[0;34m:\u001b[0m \u001b[0mwon\u001b[0m\u001b[0;34m,\u001b[0m\u001b[0;34m\u001b[0m\u001b[0;34m\u001b[0m\u001b[0m\n\u001b[1;32m     28\u001b[0m                 \u001b[0;34m'lost'\u001b[0m\u001b[0;34m:\u001b[0m \u001b[0mlost\u001b[0m\u001b[0;34m,\u001b[0m\u001b[0;34m\u001b[0m\u001b[0;34m\u001b[0m\u001b[0m\n\u001b[1;32m     29\u001b[0m                 \u001b[0;34m'win_rate'\u001b[0m\u001b[0;34m:\u001b[0m \u001b[0mround\u001b[0m\u001b[0;34m(\u001b[0m\u001b[0mwon\u001b[0m\u001b[0;34m*\u001b[0m\u001b[0;36m100\u001b[0m\u001b[0;34m/\u001b[0m\u001b[0;34m(\u001b[0m\u001b[0mwon\u001b[0m\u001b[0;34m+\u001b[0m\u001b[0mlost\u001b[0m\u001b[0;34m)\u001b[0m\u001b[0;34m,\u001b[0m \u001b[0;36m2\u001b[0m\u001b[0;34m)\u001b[0m\u001b[0;34m\u001b[0m\u001b[0;34m\u001b[0m\u001b[0m\n\u001b[1;32m     30\u001b[0m             })\n\u001b[0;32m---> 31\u001b[0;31m     \u001b[0mstats_df\u001b[0m \u001b[0;34m=\u001b[0m \u001b[0mpd\u001b[0m\u001b[0;34m.\u001b[0m\u001b[0mDataFrame\u001b[0m\u001b[0;34m(\u001b[0m\u001b[0mopponent_stats\u001b[0m\u001b[0;34m)\u001b[0m\u001b[0;34m.\u001b[0m\u001b[0msort_values\u001b[0m\u001b[0;34m(\u001b[0m\u001b[0mby\u001b[0m\u001b[0;34m=\u001b[0m\u001b[0;34m'win_rate'\u001b[0m\u001b[0;34m,\u001b[0m \u001b[0mascending\u001b[0m\u001b[0;34m=\u001b[0m\u001b[0;32mFalse\u001b[0m\u001b[0;34m)\u001b[0m\u001b[0;34m\u001b[0m\u001b[0;34m\u001b[0m\u001b[0m\n\u001b[0m\u001b[1;32m     32\u001b[0m     \u001b[0;32mreturn\u001b[0m \u001b[0mstats_df\u001b[0m\u001b[0;34m[\u001b[0m\u001b[0mstats_df\u001b[0m\u001b[0;34m[\u001b[0m\u001b[0;34m'total'\u001b[0m\u001b[0;34m]\u001b[0m \u001b[0;34m>=\u001b[0m \u001b[0;36m1\u001b[0m\u001b[0;34m]\u001b[0m\u001b[0;34m.\u001b[0m\u001b[0mreset_index\u001b[0m\u001b[0;34m(\u001b[0m\u001b[0mdrop\u001b[0m\u001b[0;34m=\u001b[0m\u001b[0;32mTrue\u001b[0m\u001b[0;34m)\u001b[0m\u001b[0;34m\u001b[0m\u001b[0;34m\u001b[0m\u001b[0m\n",
      "\u001b[0;32m/Library/Frameworks/Python.framework/Versions/3.10/lib/python3.10/site-packages/pandas/core/frame.py\u001b[0m in \u001b[0;36m?\u001b[0;34m(self, by, axis, ascending, inplace, kind, na_position, ignore_index, key)\u001b[0m\n\u001b[1;32m   6754\u001b[0m         \u001b[0;32melif\u001b[0m \u001b[0mlen\u001b[0m\u001b[0;34m(\u001b[0m\u001b[0mby\u001b[0m\u001b[0;34m)\u001b[0m\u001b[0;34m:\u001b[0m\u001b[0;34m\u001b[0m\u001b[0;34m\u001b[0m\u001b[0m\n\u001b[1;32m   6755\u001b[0m             \u001b[0;31m# len(by) == 1\u001b[0m\u001b[0;34m\u001b[0m\u001b[0;34m\u001b[0m\u001b[0m\n\u001b[1;32m   6756\u001b[0m \u001b[0;34m\u001b[0m\u001b[0m\n\u001b[1;32m   6757\u001b[0m             \u001b[0mby\u001b[0m \u001b[0;34m=\u001b[0m \u001b[0mby\u001b[0m\u001b[0;34m[\u001b[0m\u001b[0;36m0\u001b[0m\u001b[0;34m]\u001b[0m\u001b[0;34m\u001b[0m\u001b[0;34m\u001b[0m\u001b[0m\n\u001b[0;32m-> 6758\u001b[0;31m             \u001b[0mk\u001b[0m \u001b[0;34m=\u001b[0m \u001b[0mself\u001b[0m\u001b[0;34m.\u001b[0m\u001b[0m_get_label_or_level_values\u001b[0m\u001b[0;34m(\u001b[0m\u001b[0mby\u001b[0m\u001b[0;34m,\u001b[0m \u001b[0maxis\u001b[0m\u001b[0;34m=\u001b[0m\u001b[0maxis\u001b[0m\u001b[0;34m)\u001b[0m\u001b[0;34m\u001b[0m\u001b[0;34m\u001b[0m\u001b[0m\n\u001b[0m\u001b[1;32m   6759\u001b[0m \u001b[0;34m\u001b[0m\u001b[0m\n\u001b[1;32m   6760\u001b[0m             \u001b[0;31m# need to rewrap column in Series to apply key function\u001b[0m\u001b[0;34m\u001b[0m\u001b[0;34m\u001b[0m\u001b[0m\n\u001b[1;32m   6761\u001b[0m             \u001b[0;32mif\u001b[0m \u001b[0mkey\u001b[0m \u001b[0;32mis\u001b[0m \u001b[0;32mnot\u001b[0m \u001b[0;32mNone\u001b[0m\u001b[0;34m:\u001b[0m\u001b[0;34m\u001b[0m\u001b[0;34m\u001b[0m\u001b[0m\n",
      "\u001b[0;32m/Library/Frameworks/Python.framework/Versions/3.10/lib/python3.10/site-packages/pandas/core/generic.py\u001b[0m in \u001b[0;36m?\u001b[0;34m(self, key, axis)\u001b[0m\n\u001b[1;32m   1774\u001b[0m             \u001b[0mvalues\u001b[0m \u001b[0;34m=\u001b[0m \u001b[0mself\u001b[0m\u001b[0;34m.\u001b[0m\u001b[0mxs\u001b[0m\u001b[0;34m(\u001b[0m\u001b[0mkey\u001b[0m\u001b[0;34m,\u001b[0m \u001b[0maxis\u001b[0m\u001b[0;34m=\u001b[0m\u001b[0mother_axes\u001b[0m\u001b[0;34m[\u001b[0m\u001b[0;36m0\u001b[0m\u001b[0;34m]\u001b[0m\u001b[0;34m)\u001b[0m\u001b[0;34m.\u001b[0m\u001b[0m_values\u001b[0m\u001b[0;34m\u001b[0m\u001b[0;34m\u001b[0m\u001b[0m\n\u001b[1;32m   1775\u001b[0m         \u001b[0;32melif\u001b[0m \u001b[0mself\u001b[0m\u001b[0;34m.\u001b[0m\u001b[0m_is_level_reference\u001b[0m\u001b[0;34m(\u001b[0m\u001b[0mkey\u001b[0m\u001b[0;34m,\u001b[0m \u001b[0maxis\u001b[0m\u001b[0;34m=\u001b[0m\u001b[0maxis\u001b[0m\u001b[0;34m)\u001b[0m\u001b[0;34m:\u001b[0m\u001b[0;34m\u001b[0m\u001b[0;34m\u001b[0m\u001b[0m\n\u001b[1;32m   1776\u001b[0m             \u001b[0mvalues\u001b[0m \u001b[0;34m=\u001b[0m \u001b[0mself\u001b[0m\u001b[0;34m.\u001b[0m\u001b[0maxes\u001b[0m\u001b[0;34m[\u001b[0m\u001b[0maxis\u001b[0m\u001b[0;34m]\u001b[0m\u001b[0;34m.\u001b[0m\u001b[0mget_level_values\u001b[0m\u001b[0;34m(\u001b[0m\u001b[0mkey\u001b[0m\u001b[0;34m)\u001b[0m\u001b[0;34m.\u001b[0m\u001b[0m_values\u001b[0m\u001b[0;34m\u001b[0m\u001b[0;34m\u001b[0m\u001b[0m\n\u001b[1;32m   1777\u001b[0m         \u001b[0;32melse\u001b[0m\u001b[0;34m:\u001b[0m\u001b[0;34m\u001b[0m\u001b[0;34m\u001b[0m\u001b[0m\n\u001b[0;32m-> 1778\u001b[0;31m             \u001b[0;32mraise\u001b[0m \u001b[0mKeyError\u001b[0m\u001b[0;34m(\u001b[0m\u001b[0mkey\u001b[0m\u001b[0;34m)\u001b[0m\u001b[0;34m\u001b[0m\u001b[0;34m\u001b[0m\u001b[0m\n\u001b[0m\u001b[1;32m   1779\u001b[0m \u001b[0;34m\u001b[0m\u001b[0m\n\u001b[1;32m   1780\u001b[0m         \u001b[0;31m# Check for duplicates\u001b[0m\u001b[0;34m\u001b[0m\u001b[0;34m\u001b[0m\u001b[0m\n\u001b[1;32m   1781\u001b[0m         \u001b[0;32mif\u001b[0m \u001b[0mvalues\u001b[0m\u001b[0;34m.\u001b[0m\u001b[0mndim\u001b[0m \u001b[0;34m>\u001b[0m \u001b[0;36m1\u001b[0m\u001b[0;34m:\u001b[0m\u001b[0;34m\u001b[0m\u001b[0;34m\u001b[0m\u001b[0m\n",
      "\u001b[0;31mKeyError\u001b[0m: 'win_rate'"
     ]
    }
   ],
   "source": [
    "player_name = 'phantom'\n",
    "opponent_stats(df, player_name)\n"
   ]
  },
  {
   "cell_type": "code",
   "execution_count": 10,
   "id": "1ef09a87-5de6-468c-907f-b215c74efdce",
   "metadata": {},
   "outputs": [
    {
     "ename": "KeyError",
     "evalue": "'win_rate'",
     "output_type": "error",
     "traceback": [
      "\u001b[0;31m---------------------------------------------------------------------------\u001b[0m",
      "\u001b[0;31mKeyError\u001b[0m                                  Traceback (most recent call last)",
      "\u001b[0;32m/var/folders/wk/xh1t9b793w52fjy9qr_0q3pr0000gn/T/ipykernel_23348/3148741005.py\u001b[0m in \u001b[0;36m?\u001b[0;34m()\u001b[0m\n\u001b[0;32m----> 1\u001b[0;31m \u001b[0mteammate_stats\u001b[0m\u001b[0;34m(\u001b[0m\u001b[0mdf\u001b[0m\u001b[0;34m,\u001b[0m \u001b[0mplayer_name\u001b[0m\u001b[0;34m)\u001b[0m\u001b[0;34m\u001b[0m\u001b[0;34m\u001b[0m\u001b[0m\n\u001b[0m",
      "\u001b[0;32m/var/folders/wk/xh1t9b793w52fjy9qr_0q3pr0000gn/T/ipykernel_23348/2531794330.py\u001b[0m in \u001b[0;36m?\u001b[0;34m(df, player)\u001b[0m\n\u001b[1;32m     27\u001b[0m                 \u001b[0;34m'won'\u001b[0m\u001b[0;34m:\u001b[0m \u001b[0mwon\u001b[0m\u001b[0;34m,\u001b[0m\u001b[0;34m\u001b[0m\u001b[0;34m\u001b[0m\u001b[0m\n\u001b[1;32m     28\u001b[0m                 \u001b[0;34m'lost'\u001b[0m\u001b[0;34m:\u001b[0m \u001b[0mlost\u001b[0m\u001b[0;34m,\u001b[0m\u001b[0;34m\u001b[0m\u001b[0;34m\u001b[0m\u001b[0m\n\u001b[1;32m     29\u001b[0m                 \u001b[0;34m'win_rate'\u001b[0m\u001b[0;34m:\u001b[0m \u001b[0mround\u001b[0m\u001b[0;34m(\u001b[0m\u001b[0mwon\u001b[0m\u001b[0;34m*\u001b[0m\u001b[0;36m100\u001b[0m\u001b[0;34m/\u001b[0m\u001b[0;34m(\u001b[0m\u001b[0mwon\u001b[0m\u001b[0;34m+\u001b[0m\u001b[0mlost\u001b[0m\u001b[0;34m)\u001b[0m\u001b[0;34m,\u001b[0m \u001b[0;36m2\u001b[0m\u001b[0;34m)\u001b[0m\u001b[0;34m\u001b[0m\u001b[0;34m\u001b[0m\u001b[0m\n\u001b[1;32m     30\u001b[0m             })\n\u001b[0;32m---> 31\u001b[0;31m     \u001b[0mstats_df\u001b[0m \u001b[0;34m=\u001b[0m \u001b[0mpd\u001b[0m\u001b[0;34m.\u001b[0m\u001b[0mDataFrame\u001b[0m\u001b[0;34m(\u001b[0m\u001b[0mteammate_stats\u001b[0m\u001b[0;34m)\u001b[0m\u001b[0;34m.\u001b[0m\u001b[0msort_values\u001b[0m\u001b[0;34m(\u001b[0m\u001b[0mby\u001b[0m\u001b[0;34m=\u001b[0m\u001b[0;34m'win_rate'\u001b[0m\u001b[0;34m,\u001b[0m \u001b[0mascending\u001b[0m\u001b[0;34m=\u001b[0m\u001b[0;32mFalse\u001b[0m\u001b[0;34m)\u001b[0m\u001b[0;34m\u001b[0m\u001b[0;34m\u001b[0m\u001b[0m\n\u001b[0m\u001b[1;32m     32\u001b[0m     \u001b[0;32mreturn\u001b[0m \u001b[0mstats_df\u001b[0m\u001b[0;34m[\u001b[0m\u001b[0mstats_df\u001b[0m\u001b[0;34m[\u001b[0m\u001b[0;34m'total'\u001b[0m\u001b[0;34m]\u001b[0m \u001b[0;34m>=\u001b[0m \u001b[0;36m1\u001b[0m\u001b[0;34m]\u001b[0m\u001b[0;34m.\u001b[0m\u001b[0mreset_index\u001b[0m\u001b[0;34m(\u001b[0m\u001b[0mdrop\u001b[0m\u001b[0;34m=\u001b[0m\u001b[0;32mTrue\u001b[0m\u001b[0;34m)\u001b[0m\u001b[0;34m\u001b[0m\u001b[0;34m\u001b[0m\u001b[0m\n",
      "\u001b[0;32m/Library/Frameworks/Python.framework/Versions/3.10/lib/python3.10/site-packages/pandas/core/frame.py\u001b[0m in \u001b[0;36m?\u001b[0;34m(self, by, axis, ascending, inplace, kind, na_position, ignore_index, key)\u001b[0m\n\u001b[1;32m   6754\u001b[0m         \u001b[0;32melif\u001b[0m \u001b[0mlen\u001b[0m\u001b[0;34m(\u001b[0m\u001b[0mby\u001b[0m\u001b[0;34m)\u001b[0m\u001b[0;34m:\u001b[0m\u001b[0;34m\u001b[0m\u001b[0;34m\u001b[0m\u001b[0m\n\u001b[1;32m   6755\u001b[0m             \u001b[0;31m# len(by) == 1\u001b[0m\u001b[0;34m\u001b[0m\u001b[0;34m\u001b[0m\u001b[0m\n\u001b[1;32m   6756\u001b[0m \u001b[0;34m\u001b[0m\u001b[0m\n\u001b[1;32m   6757\u001b[0m             \u001b[0mby\u001b[0m \u001b[0;34m=\u001b[0m \u001b[0mby\u001b[0m\u001b[0;34m[\u001b[0m\u001b[0;36m0\u001b[0m\u001b[0;34m]\u001b[0m\u001b[0;34m\u001b[0m\u001b[0;34m\u001b[0m\u001b[0m\n\u001b[0;32m-> 6758\u001b[0;31m             \u001b[0mk\u001b[0m \u001b[0;34m=\u001b[0m \u001b[0mself\u001b[0m\u001b[0;34m.\u001b[0m\u001b[0m_get_label_or_level_values\u001b[0m\u001b[0;34m(\u001b[0m\u001b[0mby\u001b[0m\u001b[0;34m,\u001b[0m \u001b[0maxis\u001b[0m\u001b[0;34m=\u001b[0m\u001b[0maxis\u001b[0m\u001b[0;34m)\u001b[0m\u001b[0;34m\u001b[0m\u001b[0;34m\u001b[0m\u001b[0m\n\u001b[0m\u001b[1;32m   6759\u001b[0m \u001b[0;34m\u001b[0m\u001b[0m\n\u001b[1;32m   6760\u001b[0m             \u001b[0;31m# need to rewrap column in Series to apply key function\u001b[0m\u001b[0;34m\u001b[0m\u001b[0;34m\u001b[0m\u001b[0m\n\u001b[1;32m   6761\u001b[0m             \u001b[0;32mif\u001b[0m \u001b[0mkey\u001b[0m \u001b[0;32mis\u001b[0m \u001b[0;32mnot\u001b[0m \u001b[0;32mNone\u001b[0m\u001b[0;34m:\u001b[0m\u001b[0;34m\u001b[0m\u001b[0;34m\u001b[0m\u001b[0m\n",
      "\u001b[0;32m/Library/Frameworks/Python.framework/Versions/3.10/lib/python3.10/site-packages/pandas/core/generic.py\u001b[0m in \u001b[0;36m?\u001b[0;34m(self, key, axis)\u001b[0m\n\u001b[1;32m   1774\u001b[0m             \u001b[0mvalues\u001b[0m \u001b[0;34m=\u001b[0m \u001b[0mself\u001b[0m\u001b[0;34m.\u001b[0m\u001b[0mxs\u001b[0m\u001b[0;34m(\u001b[0m\u001b[0mkey\u001b[0m\u001b[0;34m,\u001b[0m \u001b[0maxis\u001b[0m\u001b[0;34m=\u001b[0m\u001b[0mother_axes\u001b[0m\u001b[0;34m[\u001b[0m\u001b[0;36m0\u001b[0m\u001b[0;34m]\u001b[0m\u001b[0;34m)\u001b[0m\u001b[0;34m.\u001b[0m\u001b[0m_values\u001b[0m\u001b[0;34m\u001b[0m\u001b[0;34m\u001b[0m\u001b[0m\n\u001b[1;32m   1775\u001b[0m         \u001b[0;32melif\u001b[0m \u001b[0mself\u001b[0m\u001b[0;34m.\u001b[0m\u001b[0m_is_level_reference\u001b[0m\u001b[0;34m(\u001b[0m\u001b[0mkey\u001b[0m\u001b[0;34m,\u001b[0m \u001b[0maxis\u001b[0m\u001b[0;34m=\u001b[0m\u001b[0maxis\u001b[0m\u001b[0;34m)\u001b[0m\u001b[0;34m:\u001b[0m\u001b[0;34m\u001b[0m\u001b[0;34m\u001b[0m\u001b[0m\n\u001b[1;32m   1776\u001b[0m             \u001b[0mvalues\u001b[0m \u001b[0;34m=\u001b[0m \u001b[0mself\u001b[0m\u001b[0;34m.\u001b[0m\u001b[0maxes\u001b[0m\u001b[0;34m[\u001b[0m\u001b[0maxis\u001b[0m\u001b[0;34m]\u001b[0m\u001b[0;34m.\u001b[0m\u001b[0mget_level_values\u001b[0m\u001b[0;34m(\u001b[0m\u001b[0mkey\u001b[0m\u001b[0;34m)\u001b[0m\u001b[0;34m.\u001b[0m\u001b[0m_values\u001b[0m\u001b[0;34m\u001b[0m\u001b[0;34m\u001b[0m\u001b[0m\n\u001b[1;32m   1777\u001b[0m         \u001b[0;32melse\u001b[0m\u001b[0;34m:\u001b[0m\u001b[0;34m\u001b[0m\u001b[0;34m\u001b[0m\u001b[0m\n\u001b[0;32m-> 1778\u001b[0;31m             \u001b[0;32mraise\u001b[0m \u001b[0mKeyError\u001b[0m\u001b[0;34m(\u001b[0m\u001b[0mkey\u001b[0m\u001b[0;34m)\u001b[0m\u001b[0;34m\u001b[0m\u001b[0;34m\u001b[0m\u001b[0m\n\u001b[0m\u001b[1;32m   1779\u001b[0m \u001b[0;34m\u001b[0m\u001b[0m\n\u001b[1;32m   1780\u001b[0m         \u001b[0;31m# Check for duplicates\u001b[0m\u001b[0;34m\u001b[0m\u001b[0;34m\u001b[0m\u001b[0m\n\u001b[1;32m   1781\u001b[0m         \u001b[0;32mif\u001b[0m \u001b[0mvalues\u001b[0m\u001b[0;34m.\u001b[0m\u001b[0mndim\u001b[0m \u001b[0;34m>\u001b[0m \u001b[0;36m1\u001b[0m\u001b[0;34m:\u001b[0m\u001b[0;34m\u001b[0m\u001b[0;34m\u001b[0m\u001b[0m\n",
      "\u001b[0;31mKeyError\u001b[0m: 'win_rate'"
     ]
    }
   ],
   "source": [
    "teammate_stats(df, player_name)"
   ]
  },
  {
   "cell_type": "code",
   "execution_count": null,
   "id": "dbc319c0-32a2-4914-8f48-9479565ce272",
   "metadata": {},
   "outputs": [],
   "source": []
  },
  {
   "cell_type": "code",
   "execution_count": null,
   "id": "694b8136-442a-4006-8b84-4fe32b00ece6",
   "metadata": {},
   "outputs": [],
   "source": []
  }
 ],
 "metadata": {
  "kernelspec": {
   "display_name": "Python 3 (ipykernel)",
   "language": "python",
   "name": "python3"
  },
  "language_info": {
   "codemirror_mode": {
    "name": "ipython",
    "version": 3
   },
   "file_extension": ".py",
   "mimetype": "text/x-python",
   "name": "python",
   "nbconvert_exporter": "python",
   "pygments_lexer": "ipython3",
   "version": "3.10.11"
  }
 },
 "nbformat": 4,
 "nbformat_minor": 5
}
